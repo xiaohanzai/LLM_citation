{
 "cells": [
  {
   "cell_type": "code",
   "execution_count": 1,
   "id": "f50f21d9",
   "metadata": {},
   "outputs": [],
   "source": [
    "%load_ext autoreload\n",
    "%autoreload 2"
   ]
  },
  {
   "cell_type": "code",
   "execution_count": 2,
   "id": "909ffefb",
   "metadata": {},
   "outputs": [],
   "source": [
    "%matplotlib inline"
   ]
  },
  {
   "cell_type": "code",
   "execution_count": 3,
   "id": "9b03e09f",
   "metadata": {},
   "outputs": [],
   "source": [
    "import sys\n",
    "sys.path.append('code/')"
   ]
  },
  {
   "cell_type": "code",
   "execution_count": 4,
   "id": "b3a941c7",
   "metadata": {},
   "outputs": [],
   "source": [
    "from retriever_functions import *"
   ]
  },
  {
   "cell_type": "code",
   "execution_count": 5,
   "id": "6ab833f9",
   "metadata": {},
   "outputs": [],
   "source": [
    "citation_data = pd.read_csv('data/FRB_citations_23.csv')\n",
    "abstract_data = pd.read_csv('data/FRB_abstracts.csv')"
   ]
  },
  {
   "cell_type": "code",
   "execution_count": 6,
   "id": "7b161df8",
   "metadata": {},
   "outputs": [
    {
     "data": {
      "text/html": [
       "<div>\n",
       "<style scoped>\n",
       "    .dataframe tbody tr th:only-of-type {\n",
       "        vertical-align: middle;\n",
       "    }\n",
       "\n",
       "    .dataframe tbody tr th {\n",
       "        vertical-align: top;\n",
       "    }\n",
       "\n",
       "    .dataframe thead th {\n",
       "        text-align: right;\n",
       "    }\n",
       "</style>\n",
       "<table border=\"1\" class=\"dataframe\">\n",
       "  <thead>\n",
       "    <tr style=\"text-align: right;\">\n",
       "      <th></th>\n",
       "      <th>txt_ref</th>\n",
       "      <th>arxiv_id</th>\n",
       "      <th>reasons</th>\n",
       "    </tr>\n",
       "  </thead>\n",
       "  <tbody>\n",
       "    <tr>\n",
       "      <th>0</th>\n",
       "      <td>lorimer et al. 2007</td>\n",
       "      <td>arXiv:0709.4301</td>\n",
       "      <td>these references are cited to provide backgrou...</td>\n",
       "    </tr>\n",
       "    <tr>\n",
       "      <th>1</th>\n",
       "      <td>petroff et al. 2022; petroff et al. 2021</td>\n",
       "      <td>arXiv:2107.10113</td>\n",
       "      <td>these references are cited to provide backgrou...</td>\n",
       "    </tr>\n",
       "    <tr>\n",
       "      <th>2</th>\n",
       "      <td>cordes &amp; chatterjee 2019</td>\n",
       "      <td>arXiv:1906.05878</td>\n",
       "      <td>these references are cited to provide backgrou...</td>\n",
       "    </tr>\n",
       "    <tr>\n",
       "      <th>3</th>\n",
       "      <td>zhang 2022; zhang 2022a; zhang 2022b</td>\n",
       "      <td>arXiv:2212.03972</td>\n",
       "      <td>these references are cited to provide backgrou...</td>\n",
       "    </tr>\n",
       "    <tr>\n",
       "      <th>4</th>\n",
       "      <td>margalit et al. 2019</td>\n",
       "      <td>arXiv:1907.00016</td>\n",
       "      <td>these references are cited to support the conn...</td>\n",
       "    </tr>\n",
       "    <tr>\n",
       "      <th>...</th>\n",
       "      <td>...</td>\n",
       "      <td>...</td>\n",
       "      <td>...</td>\n",
       "    </tr>\n",
       "    <tr>\n",
       "      <th>2361</th>\n",
       "      <td>hankins et al. 2016</td>\n",
       "      <td>arXiv:1608.08881</td>\n",
       "      <td>referenced to mention the observation of main ...</td>\n",
       "    </tr>\n",
       "    <tr>\n",
       "      <th>2362</th>\n",
       "      <td>mondal et al. 2020</td>\n",
       "      <td>arXiv:2008.11375</td>\n",
       "      <td>cited to mention the possible turnover in the ...</td>\n",
       "    </tr>\n",
       "    <tr>\n",
       "      <th>2363</th>\n",
       "      <td>mcconnell &amp; ma 2013</td>\n",
       "      <td>arXiv:1211.2816</td>\n",
       "      <td>these papers are cited to provide background i...</td>\n",
       "    </tr>\n",
       "    <tr>\n",
       "      <th>2364</th>\n",
       "      <td>reines &amp; volonteri 2015</td>\n",
       "      <td>arXiv:1508.06274</td>\n",
       "      <td>these papers are cited to provide background i...</td>\n",
       "    </tr>\n",
       "    <tr>\n",
       "      <th>2365</th>\n",
       "      <td>cook et al. 2019</td>\n",
       "      <td>arXiv:1710.05016</td>\n",
       "      <td>referenced to describe the palomar observatory...</td>\n",
       "    </tr>\n",
       "  </tbody>\n",
       "</table>\n",
       "<p>2366 rows × 3 columns</p>\n",
       "</div>"
      ],
      "text/plain": [
       "                                       txt_ref          arxiv_id  \\\n",
       "0                          lorimer et al. 2007   arXiv:0709.4301   \n",
       "1     petroff et al. 2022; petroff et al. 2021  arXiv:2107.10113   \n",
       "2                     cordes & chatterjee 2019  arXiv:1906.05878   \n",
       "3         zhang 2022; zhang 2022a; zhang 2022b  arXiv:2212.03972   \n",
       "4                         margalit et al. 2019  arXiv:1907.00016   \n",
       "...                                        ...               ...   \n",
       "2361                       hankins et al. 2016  arXiv:1608.08881   \n",
       "2362                        mondal et al. 2020  arXiv:2008.11375   \n",
       "2363                       mcconnell & ma 2013   arXiv:1211.2816   \n",
       "2364                   reines & volonteri 2015  arXiv:1508.06274   \n",
       "2365                          cook et al. 2019  arXiv:1710.05016   \n",
       "\n",
       "                                                reasons  \n",
       "0     these references are cited to provide backgrou...  \n",
       "1     these references are cited to provide backgrou...  \n",
       "2     these references are cited to provide backgrou...  \n",
       "3     these references are cited to provide backgrou...  \n",
       "4     these references are cited to support the conn...  \n",
       "...                                                 ...  \n",
       "2361  referenced to mention the observation of main ...  \n",
       "2362  cited to mention the possible turnover in the ...  \n",
       "2363  these papers are cited to provide background i...  \n",
       "2364  these papers are cited to provide background i...  \n",
       "2365  referenced to describe the palomar observatory...  \n",
       "\n",
       "[2366 rows x 3 columns]"
      ]
     },
     "execution_count": 6,
     "metadata": {},
     "output_type": "execute_result"
    }
   ],
   "source": [
    "citation_data"
   ]
  },
  {
   "cell_type": "code",
   "execution_count": 7,
   "id": "5dc7963e",
   "metadata": {},
   "outputs": [
    {
     "data": {
      "text/html": [
       "<div>\n",
       "<style scoped>\n",
       "    .dataframe tbody tr th:only-of-type {\n",
       "        vertical-align: middle;\n",
       "    }\n",
       "\n",
       "    .dataframe tbody tr th {\n",
       "        vertical-align: top;\n",
       "    }\n",
       "\n",
       "    .dataframe thead th {\n",
       "        text-align: right;\n",
       "    }\n",
       "</style>\n",
       "<table border=\"1\" class=\"dataframe\">\n",
       "  <thead>\n",
       "    <tr style=\"text-align: right;\">\n",
       "      <th></th>\n",
       "      <th>arxiv_id</th>\n",
       "      <th>authors</th>\n",
       "      <th>title</th>\n",
       "      <th>abstract</th>\n",
       "      <th>category</th>\n",
       "    </tr>\n",
       "  </thead>\n",
       "  <tbody>\n",
       "    <tr>\n",
       "      <th>0</th>\n",
       "      <td>arXiv:2308.14387</td>\n",
       "      <td>Pavan A. Uttarkar et al.</td>\n",
       "      <td>Searching for the spectral depolarisation of A...</td>\n",
       "      <td>Fast Radio Bursts (FRBs) are extragalactic tra...</td>\n",
       "      <td>astro-ph.HE</td>\n",
       "    </tr>\n",
       "    <tr>\n",
       "      <th>1</th>\n",
       "      <td>arXiv:2308.14325</td>\n",
       "      <td>Zhao-Yang Xia et al.</td>\n",
       "      <td>Polarization Evolution of Fast Radio Burst Sou...</td>\n",
       "      <td>Recently, some fast radio bursts (FRBs) have b...</td>\n",
       "      <td>astro-ph.HE</td>\n",
       "    </tr>\n",
       "    <tr>\n",
       "      <th>2</th>\n",
       "      <td>arXiv:2308.12801</td>\n",
       "      <td>Shivani Bhandari et al.</td>\n",
       "      <td>Constraints on the persistent radio source ass...</td>\n",
       "      <td>We present very-long-baseline interferometry (...</td>\n",
       "      <td>astro-ph.HE</td>\n",
       "    </tr>\n",
       "    <tr>\n",
       "      <th>3</th>\n",
       "      <td>arXiv:2308.12432</td>\n",
       "      <td>Evan F. Lewis et al.</td>\n",
       "      <td>The Petabyte Project</td>\n",
       "      <td>Transient radio sources, such as fast radio bu...</td>\n",
       "      <td>astro-ph.IM</td>\n",
       "    </tr>\n",
       "    <tr>\n",
       "      <th>4</th>\n",
       "      <td>arXiv:2308.12118</td>\n",
       "      <td>Danté M. Hewitt et al.</td>\n",
       "      <td>Dense Forests of Microshots in Bursts from FRB...</td>\n",
       "      <td>We report on exceptionally bright bursts (&gt;400...</td>\n",
       "      <td>astro-ph.HE</td>\n",
       "    </tr>\n",
       "    <tr>\n",
       "      <th>...</th>\n",
       "      <td>...</td>\n",
       "      <td>...</td>\n",
       "      <td>...</td>\n",
       "      <td>...</td>\n",
       "      <td>...</td>\n",
       "    </tr>\n",
       "    <tr>\n",
       "      <th>1348</th>\n",
       "      <td>arXiv:1611.06481</td>\n",
       "      <td>He Gao, Bing Zhang,</td>\n",
       "      <td>Implications from the upper limit of radio aft...</td>\n",
       "      <td>A $\\gamma$-ray transient, Swift J0644.5-5111, ...</td>\n",
       "      <td>astro-ph.HE</td>\n",
       "    </tr>\n",
       "    <tr>\n",
       "      <th>1349</th>\n",
       "      <td>arXiv:1610.09043</td>\n",
       "      <td>S. Johnston et al.</td>\n",
       "      <td>Radio light curve of the galaxy possibly assoc...</td>\n",
       "      <td>We present observations made with the Australi...</td>\n",
       "      <td>astro-ph.GA</td>\n",
       "    </tr>\n",
       "    <tr>\n",
       "      <th>1350</th>\n",
       "      <td>arXiv:1603.04825</td>\n",
       "      <td>Ye Li, Bing Zhang,</td>\n",
       "      <td>Radio transient following FRB 150418: afterglo...</td>\n",
       "      <td>Recently, Keane et al. reported the discovery ...</td>\n",
       "      <td>astro-ph.HE</td>\n",
       "    </tr>\n",
       "    <tr>\n",
       "      <th>1351</th>\n",
       "      <td>arXiv:1602.08086</td>\n",
       "      <td>Bing Zhang,</td>\n",
       "      <td>On the afterglow and progenitor of FRB 150418</td>\n",
       "      <td>Keane et al. recently detected a fading radio ...</td>\n",
       "      <td>astro-ph.HE</td>\n",
       "    </tr>\n",
       "    <tr>\n",
       "      <th>1352</th>\n",
       "      <td>arXiv:1309.4451</td>\n",
       "      <td>Matthew McQuinn,</td>\n",
       "      <td>Locating the \"missing\" baryons with extragalac...</td>\n",
       "      <td>Recently, Thornton and coworkers (2013) confir...</td>\n",
       "      <td>astro-ph.CO</td>\n",
       "    </tr>\n",
       "  </tbody>\n",
       "</table>\n",
       "<p>1353 rows × 5 columns</p>\n",
       "</div>"
      ],
      "text/plain": [
       "              arxiv_id                   authors  \\\n",
       "0     arXiv:2308.14387  Pavan A. Uttarkar et al.   \n",
       "1     arXiv:2308.14325      Zhao-Yang Xia et al.   \n",
       "2     arXiv:2308.12801   Shivani Bhandari et al.   \n",
       "3     arXiv:2308.12432      Evan F. Lewis et al.   \n",
       "4     arXiv:2308.12118    Danté M. Hewitt et al.   \n",
       "...                ...                       ...   \n",
       "1348  arXiv:1611.06481      He Gao, Bing Zhang,    \n",
       "1349  arXiv:1610.09043        S. Johnston et al.   \n",
       "1350  arXiv:1603.04825       Ye Li, Bing Zhang,    \n",
       "1351  arXiv:1602.08086              Bing Zhang,    \n",
       "1352   arXiv:1309.4451         Matthew McQuinn,    \n",
       "\n",
       "                                                  title  \\\n",
       "0     Searching for the spectral depolarisation of A...   \n",
       "1     Polarization Evolution of Fast Radio Burst Sou...   \n",
       "2     Constraints on the persistent radio source ass...   \n",
       "3                                  The Petabyte Project   \n",
       "4     Dense Forests of Microshots in Bursts from FRB...   \n",
       "...                                                 ...   \n",
       "1348  Implications from the upper limit of radio aft...   \n",
       "1349  Radio light curve of the galaxy possibly assoc...   \n",
       "1350  Radio transient following FRB 150418: afterglo...   \n",
       "1351      On the afterglow and progenitor of FRB 150418   \n",
       "1352  Locating the \"missing\" baryons with extragalac...   \n",
       "\n",
       "                                               abstract     category  \n",
       "0     Fast Radio Bursts (FRBs) are extragalactic tra...  astro-ph.HE  \n",
       "1     Recently, some fast radio bursts (FRBs) have b...  astro-ph.HE  \n",
       "2     We present very-long-baseline interferometry (...  astro-ph.HE  \n",
       "3     Transient radio sources, such as fast radio bu...  astro-ph.IM  \n",
       "4     We report on exceptionally bright bursts (>400...  astro-ph.HE  \n",
       "...                                                 ...          ...  \n",
       "1348  A $\\gamma$-ray transient, Swift J0644.5-5111, ...  astro-ph.HE  \n",
       "1349  We present observations made with the Australi...  astro-ph.GA  \n",
       "1350  Recently, Keane et al. reported the discovery ...  astro-ph.HE  \n",
       "1351  Keane et al. recently detected a fading radio ...  astro-ph.HE  \n",
       "1352  Recently, Thornton and coworkers (2013) confir...  astro-ph.CO  \n",
       "\n",
       "[1353 rows x 5 columns]"
      ]
     },
     "execution_count": 7,
     "metadata": {},
     "output_type": "execute_result"
    }
   ],
   "source": [
    "abstract_data"
   ]
  },
  {
   "cell_type": "code",
   "execution_count": null,
   "id": "e62065d3",
   "metadata": {},
   "outputs": [],
   "source": []
  },
  {
   "cell_type": "code",
   "execution_count": 8,
   "id": "4b2103c7",
   "metadata": {},
   "outputs": [],
   "source": [
    "retriever_abstract = gen_retriever('VectorStoreIndex', 'abstract', path_to_db_folder='data/')\n",
    "retriever_citation = gen_retriever('VectorStoreIndex', 'citation', path_to_db_folder='data/')"
   ]
  },
  {
   "cell_type": "code",
   "execution_count": null,
   "id": "c1aca3f5",
   "metadata": {},
   "outputs": [],
   "source": []
  },
  {
   "cell_type": "markdown",
   "id": "3f3f1b7e",
   "metadata": {},
   "source": [
    "### an example where citation clearly gives more desirable results"
   ]
  },
  {
   "cell_type": "code",
   "execution_count": 9,
   "id": "6fe555c3",
   "metadata": {},
   "outputs": [],
   "source": [
    "q = 'what is fast radio burst (frb)'"
   ]
  },
  {
   "cell_type": "code",
   "execution_count": 10,
   "id": "000f51bb",
   "metadata": {},
   "outputs": [],
   "source": [
    "rst_all_abstract = retriever_abstract.retrieve(q)\n",
    "rst_all_citation = retriever_citation.retrieve(q)"
   ]
  },
  {
   "cell_type": "code",
   "execution_count": 11,
   "id": "766668d7",
   "metadata": {},
   "outputs": [
    {
     "data": {
      "image/png": "[encoded data removed]",
      "text/plain": [
       "<Figure size 640x480 with 1 Axes>"
      ]
     },
     "metadata": {},
     "output_type": "display_data"
    }
   ],
   "source": [
    "scores = get_all_scores(rst_all_citation)\n",
    "score_threshold = np.percentile(scores, 99.7)"
   ]
  },
  {
   "cell_type": "code",
   "execution_count": 12,
   "id": "44d65015",
   "metadata": {},
   "outputs": [],
   "source": [
    "rst_abstract = rearrange_query_results(rst_all_abstract, score_threshold=0.8)\n",
    "rst_citation = rearrange_query_results(rst_all_citation, score_threshold=score_threshold)"
   ]
  },
  {
   "cell_type": "code",
   "execution_count": 13,
   "id": "8b3ef506",
   "metadata": {},
   "outputs": [
    {
     "name": "stdout",
     "output_type": "stream",
     "text": [
      "1. lorimer et al. 2007, arXiv:0709.4301\n",
      "\n",
      "Reasons of citation: referenced as the original discovery of fast radio bursts (frbs).; referenced as the first discovery of fast radio bursts (frbs).; referenced as the first discovery of fast radio bursts (frbs).; referenced as the first discovery of fast radio bursts (frbs).; referenced to provide background information on the duration of fast radio bursts (frbs).; referenced to indicate the year of discovery of fast radio bursts (frbs).; referenced to introduce the concept of fast radio bursts (frbs) and their characteristics.; referenced to indicate the discovery of fast radio bursts (frbs) and establish the intense study of frbs in radio astronomy.; referenced to provide a general description of fast radio bursts (frbs) and their characteristics.; referenced to highlight the discovery of fast radio bursts (frbs) through radio astronomy.\n",
      "\n",
      "2. thornton et al. 2013, arXiv:1307.1628\n",
      "\n",
      "Reasons of citation: referenced to provide background information on the duration of fast radio bursts (frbs).; referenced to provide additional support and background information on fast radio bursts (frbs).; referenced to provide additional evidence for the existence of fast radio bursts (frbs).; referenced to indicate the discovery of fast radio bursts (frbs) and establish the intense study of frbs in radio astronomy.\n",
      "\n",
      "3. petroff et al. 2022; petroff et al. 2021, arXiv:2107.10113\n",
      "\n",
      "Reasons of citation: referenced as a recent review of fast radio bursts (frbs) to provide background information on the topic.; these references are cited to indicate that fast radio bursts (frbs) are a new class of radio transient that can be observed from distant galaxies, and to acknowledge that the source of frbs is still unknown.\n",
      "\n",
      "4. petroff et al. 2016, arXiv:1601.03547\n",
      "\n",
      "Reasons of citation: referenced to provide background information on the duration of fast radio bursts (frbs).\n",
      "\n",
      "5. cordes & chatterjee 2019, arXiv:1906.05878\n",
      "\n",
      "Reasons of citation: these references are cited to indicate that fast radio bursts (frbs) are a new class of radio transient that can be observed from distant galaxies, and to acknowledge that the source of frbs is still unknown.\n",
      "\n"
     ]
    }
   ],
   "source": [
    "# citation search\n",
    "print_citation_query_results(citation_data, rst_citation)"
   ]
  },
  {
   "cell_type": "code",
   "execution_count": 15,
   "id": "cb4f4d51",
   "metadata": {},
   "outputs": [
    {
     "name": "stdout",
     "output_type": "stream",
     "text": [
      "1. Bo-Jun Wang et al., arXiv:2301.01429\n",
      "\n",
      "Title: Atlas of dynamic spectra of fast radio burst FRB 20201124A\n",
      "\n",
      "Abstract: Fast radio bursts (FRBs) are highly dispersed millisecond-duration radio bursts, of which the physical origin is still not fully understood. FRB 20201124A is one of the most actively repeating FRBs. In this paper, we present the collection of 1863 burst dynamic spectra of FRB 20201124A measured with the Five-hundred-meter Aperture Spherical radio Telescope (FAST). The current collection, taken from the observation during the FRB active phase from April to June 2021, is the largest burst sample detected in any FRB so far. The standard PSRFITs format is adopted, including dynamic spectra of the burst, and the time information of the dynamic spectra, in addition, mask files help readers to identify the pulse positions are also provided.\n",
      "\n",
      "2. Matthew Bailes, , arXiv:2211.06048\n",
      "\n",
      "Title: The discovery and scientific potential of fast radio bursts\n",
      "\n",
      "Abstract: Fast radio bursts (FRBs) are millisecond-timescale bursts of coherent radio emission that are luminous enough to be detectable at cosmological distances. In this review I describe the discovery of FRBs, subsequent advances in our understanding of them, and future prospects. Thousands of potentially observable FRBs reach Earth every day; they probably originate from highly magnetic and/or rapidly rotating neutron stars in the distant Universe. Some FRBs repeat, with this sub-class often occurring in highly magnetic environments. Two repeaters exhibit cyclic activity windows, consistent with an orbital period. One nearby FRB was from a Galactic magnetar during an X-ray outburst. The host galaxies of some FRBs have been located, providing information about the host environments and the total baryonic content of the Universe.\n",
      "\n",
      "3. Griffin Foster et al., arXiv:1808.07809\n",
      "\n",
      "Title: Verifying and Reporting Fast Radio Bursts\n",
      "\n",
      "Abstract: Fast Radio Bursts (FRBs) are a class of short-duration transients at radio wavelengths with inferred astrophysical origin. The prototypical FRB is a broadband signal that occurs over the extent of the receiver frequency range, is narrow in time, and is highly dispersed, following a $\\nu^{-2}$ relation. However, some FRBs appear band-limited, and show apparent scintillation, complex frequency-dependent structure, or multi-component pulse shapes. While there is sufficient evidence that FRBs are indeed astrophysical, their one-off nature necessitates extra scrutiny when reporting a detection as bona fide and not a false positive. Currently, there is no formal validation framework for FRBs, rather a set of community practices. In this article, we discuss potential sources of false positives, and suggest a framework in which FRB-like events can be evaluated as real or otherwise. We present examples of false-positive events in data from the Arecibo, LOFAR, and Nanshan telescopes, which while FRB-like, are found to be due to instrumental variations, noise, and radio-frequency interference. Differentiating these false-positive detections from astrophysical events requires knowledge and tests beyond thresholded single-pulse detection. We discuss post-detection analyses, verification tests, and datasets which should be provided when reporting an FRB detection.\n",
      "\n",
      "4. J. I. Katz, , arXiv:1604.01799\n",
      "\n",
      "Title: Fast Radio Bursts---A Brief Review: Some Questions, Fewer Answers\n",
      "\n",
      "Abstract: Fast Radio Bursts are millisecond bursts of radio radiation at frequencies of about 1 GHz, recently discovered in pulsar surveys. They have not yet been definitively identified with any other astronomical object or phenomenon. The bursts are strongly dispersed, indicating passage through a high column density of low density plasma. The most economical interpretation is that this is the interglactic medium, indicating that FRB are at \"cosmological\" distances with redshifts in the range 0.3--1.3. Their inferred brightness temperatures are as high as $10^{37\\,\\circ}$K, implying coherent emission by \"bunched\" charges, as in radio pulsars. I review the astronomical sites, objects and emission processes that have been proposed as the origin of FRB, with particular attention to Soft Gamma Repeaters and giant pulsar pulses.\n",
      "\n",
      "5. E. Petroff et al., arXiv:1810.10773\n",
      "\n",
      "Title: A fast radio burst with a low dispersion measure\n",
      "\n",
      "Abstract: Fast radio bursts (FRBs) are millisecond pulses of radio emission of seemingly extragalactic origin. More than 50 FRBs have now been detected, with only one seen to repeat. Here we present a new FRB discovery, FRB 110214, which was detected in the high latitude portion of the High Time Resolution Universe South survey at the Parkes telescope. FRB 110214 has one of the lowest dispersion measures of any known FRB (DM = 168.9$\\pm$0.5 pc cm$^{-3}$), and was detected in two beams of the Parkes multi-beam receiver. A triangulation of the burst origin on the sky identified three possible regions in the beam pattern where it may have originated, all in sidelobes of the primary detection beam. Depending on the true location of the burst the intrinsic fluence is estimated to fall in the range of 50 -- 2000 Jy ms, making FRB 110214 one of the highest-fluence FRBs detected with the Parkes telescope. No repeating pulses were seen in almost 100 hours of follow-up observations with the Parkes telescope down to a limiting fluence of 0.3 Jy ms for a 2-ms pulse. Similar low-DM, ultra-bright FRBs may be detected in telescope sidelobes in the future, making careful modeling of multi-beam instrument beam patterns of utmost importance for upcoming FRB surveys.\n",
      "\n"
     ]
    }
   ],
   "source": [
    "# abstract search\n",
    "print_abstract_query_results(abstract_data, rst_abstract)"
   ]
  },
  {
   "cell_type": "code",
   "execution_count": null,
   "id": "503a6f6d",
   "metadata": {},
   "outputs": [],
   "source": []
  },
  {
   "cell_type": "markdown",
   "id": "c2acc4a0",
   "metadata": {},
   "source": [
    "### example where citation is a bit better, but still a lot of noise\n",
    "I know where the petroff papers come from... because I cited those papers in my own paper.  I can imagine why gpt thinks the reason for citation is like that, and it's unavoidable.\n",
    "\n",
    "Perhaps in the future need to let gpt determine what the \"noise\" reasons of citation in each entry.\n",
    "\n",
    "In this case the abstract search is not too bad, and I'm glad that it returned my own paper..."
   ]
  },
  {
   "cell_type": "code",
   "execution_count": 22,
   "id": "f3764587",
   "metadata": {},
   "outputs": [],
   "source": [
    "q = 'fast radio burst as a probe of circumgalactic medium (cgm)'"
   ]
  },
  {
   "cell_type": "code",
   "execution_count": 23,
   "id": "e8d6c294",
   "metadata": {},
   "outputs": [],
   "source": [
    "rst_all_abstract = retriever_abstract.retrieve(q)\n",
    "rst_all_citation = retriever_citation.retrieve(q)"
   ]
  },
  {
   "cell_type": "code",
   "execution_count": 24,
   "id": "b6ae7120",
   "metadata": {},
   "outputs": [
    {
     "data": {
      "image/png": "[encoded data removed]",
      "text/plain": [
       "<Figure size 640x480 with 1 Axes>"
      ]
     },
     "metadata": {},
     "output_type": "display_data"
    }
   ],
   "source": [
    "scores = get_all_scores(rst_all_citation)\n",
    "score_threshold = np.percentile(scores, 99.7)"
   ]
  },
  {
   "cell_type": "code",
   "execution_count": 25,
   "id": "c3e3b612",
   "metadata": {},
   "outputs": [],
   "source": [
    "rst_abstract = rearrange_query_results(rst_all_abstract, score_threshold=0.8)\n",
    "rst_citation = rearrange_query_results(rst_all_citation, score_threshold=score_threshold)"
   ]
  },
  {
   "cell_type": "code",
   "execution_count": 26,
   "id": "53ae2b32",
   "metadata": {},
   "outputs": [
    {
     "name": "stdout",
     "output_type": "stream",
     "text": [
      "1. prochaska & zheng 2019, arXiv:1901.11051\n",
      "\n",
      "Reasons of citation: cited to support the statement that fast radio bursts (frbs) are starting to provide an unprecedented probe of the circumgalactic medium (cgm) with the advent of many radio telescopes geared for this science coming online across the globe.; these papers are referenced to highlight the focus on studying the circumgalactic medium (cgm) with frbs, emphasizing its significance in galaxy formation and feedback processes and the challenges in detecting the cgm using traditional means.\n",
      "\n",
      "2. ravi 2019, arXiv:1804.07291\n",
      "\n",
      "Reasons of citation: these papers are referenced to highlight the focus on studying the circumgalactic medium (cgm) with frbs, emphasizing its significance in galaxy formation and feedback processes and the challenges in detecting the cgm using traditional means.; cited to highlight the use of dispersion measure (dm) measurements from fast radio bursts (frbs) to constrain the circumgalactic medium (cgm) gas distribution.\n",
      "\n",
      "3. petroff et al. 2019; petroff et al. 2019a; petroff et al. 2019b, arXiv:1904.07947\n",
      "\n",
      "Reasons of citation: cited to support the statement that fast radio bursts (frbs) are starting to provide an unprecedented probe of the circumgalactic medium (cgm) with the advent of many radio telescopes geared for this science coming online across the globe.\n",
      "\n",
      "4. petroff et al. 2022; petroff et al. 2021, arXiv:2107.10113\n",
      "\n",
      "Reasons of citation: cited to support the statement that fast radio bursts (frbs) are starting to provide an unprecedented probe of the circumgalactic medium (cgm) with the advent of many radio telescopes geared for this science coming online across the globe.\n",
      "\n",
      "5. keating & pen 2020, arXiv:2001.11105\n",
      "\n",
      "Reasons of citation: cited to support the statement that fast radio bursts (frbs) are starting to provide an unprecedented probe of the circumgalactic medium (cgm) with the advent of many radio telescopes geared for this science coming online across the globe.\n",
      "\n"
     ]
    }
   ],
   "source": [
    "# citation search\n",
    "print_citation_query_results(citation_data, rst_citation)"
   ]
  },
  {
   "cell_type": "code",
   "execution_count": 27,
   "id": "940a48bc",
   "metadata": {},
   "outputs": [
    {
     "name": "stdout",
     "output_type": "stream",
     "text": [
      "1. Vikram Ravi, , arXiv:1804.07291\n",
      "\n",
      "Title: Measuring the circum- and inter-galactic baryon contents with fast radio bursts\n",
      "\n",
      "Abstract: Over 80% of the cosmic baryon density is likely to be distributed in the diffuse, $\\gtrsim10^{4}$ K circum- and inter-galactic medium (CGM and IGM respectively). We demonstrate that the dispersion measures (DMs) of samples of localized Fast Radio Bursts (FRBs) can be used to measure the distribution of baryons between the CGM and IGM. We propose to separate the CGM and IGM contributions to FRB DMs by including redshift and mass measurements of intervening galaxies. Using simulated samples of FRB sightlines through intervening galaxy halos and an illustrative model for the CGM, and including realistic observational uncertainties, we show that small samples ($O(10^{1})-O(10^{2})$) of localized FRBs are sensitive to the presence of CGM gas. The fractions of baryons in the CGM and IGM can be accurately estimated with 100 FRBs at $z<1$, and the characteristic radial density profiles of CGM halos may also be possible to constrain. The required samples of localized FRBs are expected to be assembled in the coming few years by instruments such as the Australian Square Kilometre Array Pathfinder, the Very Large Array, and the Deep Synoptic Array.\n",
      "\n",
      "2. Z. Zheng et al., arXiv:1409.3244\n",
      "\n",
      "Title: Probing the Intergalactic Medium with Fast Radio Bursts\n",
      "\n",
      "Abstract: The recently discovered fast radio bursts (FRBs), presumably of extra-galactic origin, have the potential to become a powerful probe of the intergalactic medium (IGM). We point out a few such potential applications. We provide expressions for the dispersion measure and rotation measure as a function of redshift, and we discuss the sensitivity of these measures to the HeII reionization and the IGM magnetic field. Finally we calculate the microlensing effect from an isolate, extragalctic stellar-mass compact object on the FRB spectrum. The time delays between the two lensing images will induce constructive and destructive interference, leaving a specific imprint on the spectra of FRBs. With a high all-sky rate, a large statistical sample of FRBs is expected to make these applications feasible.\n",
      "\n",
      "3. Vikram Ravi et al., arXiv:1903.06535\n",
      "\n",
      "Title: Fast Radio Burst Tomography of the Unseen Universe\n",
      "\n",
      "Abstract: The discovery of Fast Radio Bursts (FRBs) at cosmological distances has opened a powerful window on otherwise unseen matter in the Universe. In the 2020s, observations of $>10^{4}$ FRBs will assess the baryon contents and physical conditions in the hot/diffuse circumgalactic, intracluster, and intergalactic medium, and test extant compact-object dark matter models.\n",
      "\n",
      "4. Xiaohan Wu, Matthew McQuinn, , arXiv:2209.04455\n",
      "\n",
      "Title: A measurement of circumgalactic gas around nearby galaxies using fast radio bursts\n",
      "\n",
      "Abstract: The distribution of gas in the circumgalactic medium (CGM) of galaxies of all types is poorly constrained. Foreground CGMs contribute an extra amount to the dispersion measure (DM) of fast radio bursts (FRB). We measure this DM excess for the CGMs of $10^{11}-10^{13}\\ M_\\odot$ halos using the CHIME/FRB first data release, a halo mass range that is challenging to probe in any other way. Because of the uncertainty in the FRBs' angular coordinates, only for nearby galaxies is the localization sufficient to confidently associate them with intersecting any foreground halo. Thus we stack on galaxies within 80 Mpc, optimizing the stacking scheme to approximately minimize the stack's variance and marginalize over uncertainties in FRB locations. The sample has 20-30 FRBs intersecting halos with masses of $10^{11}-10^{12}\\ M_\\odot$ and also of $10^{12}-10^{13}\\ M_\\odot$, and these intersections allow a marginal $1-2\\,\\sigma$ detection of the DM excess in both mass bins. The $10^{11}-10^{12}\\ M_\\odot$ halos bin also shows a DM excess at 1-2 virial radii. By comparing data with different models for the CGM gas profile, we find that all models are favored by the data up to 2-$\\sigma$ level compared to the null hypothesis of no DM excess. With 2000-3000 more bursts from a future CHIME data release, we project a 4-$\\sigma$ detection of the CGM. Distinguishing between viable CGM models by stacking FRBs with CHIME-like localization would require tens of thousands of bursts.\n",
      "\n",
      "5. Takuya Akahori, Dongsu Ryu, B. M. Gaensler, , arXiv:1602.03235\n",
      "\n",
      "Title: Fast Radio Bursts as Probes of Magnetic Fields in the Intergalactic Medium\n",
      "\n",
      "Abstract: We examine the proposal that the dispersion measures (DMs) and Faraday rotation measures (RMs) of extragalactic linearly-polarized fast radio bursts (FRBs) can be used to probe the intergalactic magnetic field (IGMF) in filaments of galaxies. The DM through the cosmic web is dominated by contributions from the warm-hot intergalactic medium (WHIM) in filaments and from the gas in voids. On the other hand, RM is induced mostly by the hot medium in galaxy clusters, and only a fraction of it is produced in the WHIM. We show that if one excludes FRBs whose sightlines pass through galaxy clusters, the line-of-sight strength of the IGMF in filaments, $B_{||}$, is approximately $C(\\langle 1+z \\rangle/f_{DM})(RM/DM)$, where $C$ is a known constant. Here, the redshift of the FRB is not required to be known; $f_{DM}$ is the fraction of total DM due to the WHIM, while $\\langle 1+z \\rangle$ is the redshift of interevening gas weighted by the WHIM gas density, both of which can be evaluated for a given cosmology model solely from the DM of an FRB. Using data on structure formation simulations and a model IGMF, we show that $C(\\langle 1+z \\rangle/f_{DM})(RM/DM)$ closely reproduces the density-weighted line-of-sight strength of the IGMF in filaments of the large-scale structure.\n",
      "\n"
     ]
    }
   ],
   "source": [
    "# abstract search\n",
    "print_abstract_query_results(abstract_data, rst_abstract)"
   ]
  },
  {
   "cell_type": "code",
   "execution_count": null,
   "id": "5aeac330",
   "metadata": {},
   "outputs": [],
   "source": []
  },
  {
   "cell_type": "markdown",
   "id": "883caee2",
   "metadata": {},
   "source": [
    "### example where combining both results should be better\n",
    "Because the abstract search results can return more recent papers when it comes to gravitational lensing, and also the topic better.  But citation search has Lorimer and Cordes & Chatterjee which either are not relevant at all or come from noise like the CGM example above.\n",
    "\n",
    "It seems like openai embedding matches Lorimer and Petroff etc. to everything... need to find out a way of prohibiting that."
   ]
  },
  {
   "cell_type": "code",
   "execution_count": 28,
   "id": "bcdc4096",
   "metadata": {},
   "outputs": [],
   "source": [
    "q = 'fast radio burst gravitational lensing'"
   ]
  },
  {
   "cell_type": "code",
   "execution_count": 29,
   "id": "9a0d22dd",
   "metadata": {},
   "outputs": [],
   "source": [
    "rst_all_abstract = retriever_abstract.retrieve(q)\n",
    "rst_all_citation = retriever_citation.retrieve(q)"
   ]
  },
  {
   "cell_type": "code",
   "execution_count": 30,
   "id": "215f4587",
   "metadata": {},
   "outputs": [
    {
     "data": {
      "image/png": "[encoded data removed]",
      "text/plain": [
       "<Figure size 640x480 with 1 Axes>"
      ]
     },
     "metadata": {},
     "output_type": "display_data"
    }
   ],
   "source": [
    "scores = get_all_scores(rst_all_citation)\n",
    "score_threshold = np.percentile(scores, 99.7)"
   ]
  },
  {
   "cell_type": "code",
   "execution_count": 31,
   "id": "c5aa8552",
   "metadata": {},
   "outputs": [],
   "source": [
    "rst_abstract = rearrange_query_results(rst_all_abstract, score_threshold=0.8)\n",
    "rst_citation = rearrange_query_results(rst_all_citation, score_threshold=score_threshold)"
   ]
  },
  {
   "cell_type": "code",
   "execution_count": 32,
   "id": "fa61f2a3",
   "metadata": {},
   "outputs": [
    {
     "name": "stdout",
     "output_type": "stream",
     "text": [
      "1. munoz et al. 2016, arXiv:1605.00008\n",
      "\n",
      "Reasons of citation: these references are cited to support the statement that one method for detecting dark compact objects is through gravitational lensing of radio transients, specifically fast radio bursts (frbs), and to provide a basis for discussing the cosmological distance and abundance of frbs as a candidate for time-domain gravitational lensing searches.; these papers are cited to support the statement that if a pair of gravitational waves (gws) and fast radio bursts (frbs) were lensed by an isolated black hole (bh), there would be multiple temporally resolvable frbs due to strong lensing.\n",
      "\n",
      "2. wucknitz et al. 2021, arXiv:2004.11643\n",
      "\n",
      "Reasons of citation: these references are cited to support the statement that one method for detecting dark compact objects is through gravitational lensing of radio transients, specifically fast radio bursts (frbs), and to provide a basis for discussing the cosmological distance and abundance of frbs as a candidate for time-domain gravitational lensing searches.; referenced to highlight the proposal of using strongly gravitationally lensed frbs for conducting cosmological and astrophysical studies.\n",
      "\n",
      "3. cordes & chatterjee 2019, arXiv:1906.05878\n",
      "\n",
      "Reasons of citation: these papers are cited to support the statement that if a pair of gravitational waves (gws) and fast radio bursts (frbs) were lensed by an isolated black hole (bh), there would be multiple temporally resolvable frbs due to strong lensing.; referenced as an example of a study on extragalactic sources of fast radio bursts (frbs).\n",
      "\n",
      "4. lorimer et al. 2007, arXiv:0709.4301\n",
      "\n",
      "Reasons of citation: these references are cited to highlight the discovery of fast radio bursts (frbs) and their millisecond duration radio signals arising from cosmological distances.; referenced to highlight the discovery of fast radio bursts (frbs) through radio astronomy.\n",
      "\n",
      "5. eichler 2017, arXiv:1711.04764\n",
      "\n",
      "Reasons of citation: these references are cited to support the statement that one method for detecting dark compact objects is through gravitational lensing of radio transients, specifically fast radio bursts (frbs), and to provide a basis for discussing the cosmological distance and abundance of frbs as a candidate for time-domain gravitational lensing searches.\n",
      "\n"
     ]
    }
   ],
   "source": [
    "# citation\n",
    "print_citation_query_results(citation_data, rst_citation)"
   ]
  },
  {
   "cell_type": "code",
   "execution_count": 33,
   "id": "779a4530",
   "metadata": {},
   "outputs": [
    {
     "name": "stdout",
     "output_type": "stream",
     "text": [
      "1. Mawson W. Sammons et al., arXiv:2210.09487\n",
      "\n",
      "Title: The Effect of Gravitational Lensing on Fast Transient Event Rates\n",
      "\n",
      "Abstract: Fast cosmological transients such as fast radio bursts (FRBs) and gamma-ray bursts (GRBs) represent a class of sources more compact than any other cosmological object. As such they are sensitive to significant magnification via gravitational lensing from a class of lenses which are not well-constrained by observations today. Low-mass primordial black holes are one such candidate which may constitute a significant fraction of the Universe's dark matter. Current observations only constrain their density in the nearby Universe, giving fast transients from cosmological distances the potential to form complementary constraints. Motivated by this, we calculate the effect that gravitational lensing from a cosmological distribution of compact objects would have on the observed rates of FRBs and GRBs. For static lensing geometries, we rule out the prospect that all FRBs are gravitationally lensed for a range of lens masses and show that lens masses greater than $10^{-5}M_\\odot$ can be constrained with 8000 un-localised high fluence FRBs at 1.4GHz, as might be detected by the next generation of FRB-finding telescopes.\n",
      "\n",
      "2. Noah Pearson, Cynthia Trendafilova, Joel Meyers, , arXiv:2009.11252\n",
      "\n",
      "Title: Searching for Gravitational Waves with Strongly Lensed Repeating Fast Radio Bursts\n",
      "\n",
      "Abstract: Since their serendipitous discovery, Fast Radio Bursts (FRBs) have garnered a great deal of attention from both observers and theorists. A new class of radio telescopes with wide fields of view have enabled a rapid accumulation of FRB observations, confirming that FRBs originate from cosmological distances. The high occurrence rate of FRBs and the development of new instruments to observe them create opportunities for FRBs to be utilized for a host of astrophysical and cosmological studies. We focus on the rare, and as yet undetected, subset of FRBs that undergo repeated bursts and are strongly gravitationally lensed by intervening structure. An extremely precise timing of burst arrival times is possible for strongly lensed repeating FRBs, and we show how this timing precision enables the search for long wavelength gravitational waves, including those sourced by supermassive black hole binary systems. The timing of burst arrival for strongly lensed repeating FRBs is sensitive to gravitational wave sources near the FRB host galaxy, which may lie at cosmological distances and would therefore be extremely challenging to detect by other means. Timing of strongly lensed FRBs can also be combined with pulsar timing array data to search for correlated time delays characteristic of gravitational waves passing through the Earth.\n",
      "\n",
      "3. Tal Adi, Ely D. Kovetz, , arXiv:2109.00403\n",
      "\n",
      "Title: Probing Gravitational Slip with Strongly Lensed Fast Radio Bursts\n",
      "\n",
      "Abstract: The rapid accumulation of observed Fast Radio Bursts (FRBs) originating from cosmological distances makes it likely that some will be strongly lensed by intervening matter along the line of sight. Detection of lensed FRB repeaters, which account for a noteworthy fraction of the total population, will allow not only an accurate measurement of the lensing time delay, but also follow-up high-resolution observations to pinpoint the location of the lensed images. Recent works proposed to use such strongly-lensed FRBs to derive constraints on the current expansion rate $ H_{0} $ as well as on cosmic curvature. Here we study the prospects for placing constraints on departures from general relativity via such systems. Using an ensemble of simulated events, we focus on the gravitational slip parameter $\\gamma_{\\rm PN}$ in screened modified gravity models and show that FRB time-delay measurements can yield constraints as tight as $ \\left| \\gamma_{\\rm PN}-1\\right| \\lesssim 0.04\\times(\\Lambda/100\\rm kpc)\\times[N/10]^{-1/2} $ at $1\\sigma$ with $10$ detections.\n",
      "\n",
      "4. Calvin Leung et al., arXiv:2204.06001\n",
      "\n",
      "Title: Constraining Primordial Black Holes using Fast Radio Burst Gravitational-Lens Interferometry with CHIME/FRB\n",
      "\n",
      "Abstract: Fast radio bursts (FRBs) represent an exciting frontier in the study of gravitational lensing, due to their brightness, extragalactic nature, and the compact, coherent characteristics of their emission. In a companion work [Kader, Leung+2022], we use a novel interferometric method to search for gravitationally lensed FRBs in the time domain using bursts detected by CHIME/FRB. There, we dechannelize and autocorrelate electric field data at a time resolution of 1.25 ns. This enables a search for FRBs whose emission is coherently deflected by gravitational lensing around a foreground compact object such as a primordial black hole (PBH). Here, we use our non-detection of lensed FRBs to place novel constraints on the PBH abundance outside the Local Group. We use a novel two-screen model to take into account decoherence from scattering screens in our constraints. Our constraints are subject to a single astrophysical model parameter -- the effective distance between an FRB source and the scattering screen, for which we adopt a fiducial distance of 1 parsec. We find that coherent FRB lensing is a sensitive probe of sub-solar mass compact objects. Having observed no lenses in $172$ bursts from $114$ independent sightlines through the cosmic web, we constrain the fraction of dark matter made of compact objects, such as PBHs, to be $f \\lesssim 0.8$, if their masses are $\\sim 10^{-3} M_{\\odot}$.\n",
      "\n",
      "5. David Eichler, , arXiv:1711.04764\n",
      "\n",
      "Title: Nanolensed fast Radio Bursts\n",
      "\n",
      "Abstract: It is suggested that fast radio bursts can probe gravitational lensing by clumpy dark matter objects that range in mass from $10^{-3}M_{\\odot}$ to $10^2 M_{\\odot}$. They may provide a more sensitive probe than observations of lensing of objects in the Magellanic Clouds, and could find or rule out clumpy dark matter with an extended mass spectrum.\n",
      "\n"
     ]
    }
   ],
   "source": [
    "# abstract\n",
    "print_abstract_query_results(abstract_data, rst_abstract)"
   ]
  },
  {
   "cell_type": "code",
   "execution_count": null,
   "id": "2f2c2828",
   "metadata": {},
   "outputs": [],
   "source": []
  },
  {
   "cell_type": "markdown",
   "id": "ef4e9d79",
   "metadata": {},
   "source": [
    "### example where citation query fails; abstract is way better\n",
    "I don't understand... there are clearly sentences in my citation database that has scintillation in it and openai embedding doesn't think those are strongly relevant?"
   ]
  },
  {
   "cell_type": "code",
   "execution_count": 34,
   "id": "ab1a09c3",
   "metadata": {},
   "outputs": [],
   "source": [
    "q = 'fast radio burst scintillation'"
   ]
  },
  {
   "cell_type": "code",
   "execution_count": 35,
   "id": "59018a9b",
   "metadata": {},
   "outputs": [],
   "source": [
    "rst_all_abstract = retriever_abstract.retrieve(q)\n",
    "rst_all_citation = retriever_citation.retrieve(q)"
   ]
  },
  {
   "cell_type": "code",
   "execution_count": 36,
   "id": "61e5b068",
   "metadata": {},
   "outputs": [
    {
     "data": {
      "image/png": "[encoded data removed]",
      "text/plain": [
       "<Figure size 640x480 with 1 Axes>"
      ]
     },
     "metadata": {},
     "output_type": "display_data"
    }
   ],
   "source": [
    "scores = get_all_scores(rst_all_citation)\n",
    "score_threshold = np.percentile(scores, 99.7)"
   ]
  },
  {
   "cell_type": "code",
   "execution_count": 37,
   "id": "8218b7af",
   "metadata": {},
   "outputs": [],
   "source": [
    "rst_abstract = rearrange_query_results(rst_all_abstract, score_threshold=0.8)\n",
    "rst_citation = rearrange_query_results(rst_all_citation, score_threshold=score_threshold)"
   ]
  },
  {
   "cell_type": "code",
   "execution_count": 38,
   "id": "1d8203f7",
   "metadata": {},
   "outputs": [
    {
     "name": "stdout",
     "output_type": "stream",
     "text": [
      "1. lorimer et al. 2007, arXiv:0709.4301\n",
      "\n",
      "Reasons of citation: referenced as the first discovery of fast radio bursts (frbs).; referenced as the first discovery of fast radio bursts (frbs).; referenced as the first discovery of fast radio bursts (frbs).; referenced to support the description of fast radio bursts (frbs) as bright, millisecond duration flashes of coherent radio emission.; referenced to support the general description of fast radio bursts (frbs) as short, bright flares of coherent radio emission.; these references are cited to support the statement that fast radio bursts (frbs) are bright, millisecond duration flares of coherent radio emission with large dispersion measures (dms) pointing to an extragalactic origin.; referenced as the original discovery of fast radio bursts (frbs).\n",
      "\n",
      "2. thornton et al. 2013, arXiv:1307.1628\n",
      "\n",
      "Reasons of citation: referenced to support the description of fast radio bursts (frbs) as bright, millisecond duration flashes of coherent radio emission.; referenced to support the general description of fast radio bursts (frbs) as short, bright flares of coherent radio emission.; these references are cited to support the statement that fast radio bursts (frbs) are bright, millisecond duration flares of coherent radio emission with large dispersion measures (dms) pointing to an extragalactic origin.\n",
      "\n",
      "3. cordes & chatterjee 2019, arXiv:1906.05878\n",
      "\n",
      "Reasons of citation: referenced to support the general description of fast radio bursts (frbs) as short, bright flares of coherent radio emission.; these references are cited to establish the significance of fast radio bursts (frbs) as the brightest flashes in the radio sky.\n",
      "\n",
      "4. petroff et al. 2022; petroff et al. 2021, arXiv:2107.10113\n",
      "\n",
      "Reasons of citation: referenced as a review source for fast radio bursts (frbs) and their intense, millisecond-duration radio flashes from extragalactic distances.\n",
      "\n",
      "5. petroff et al. 2016, arXiv:1601.03547\n",
      "\n",
      "Reasons of citation: referenced to support the description of fast radio bursts (frbs) as bright, millisecond duration flashes of coherent radio emission.\n",
      "\n"
     ]
    }
   ],
   "source": [
    "# citation\n",
    "print_citation_query_results(citation_data, rst_citation)"
   ]
  },
  {
   "cell_type": "code",
   "execution_count": 39,
   "id": "d3530232",
   "metadata": {},
   "outputs": [
    {
     "name": "stdout",
     "output_type": "stream",
     "text": [
      "1. Qiwu Song et al., arXiv:1707.08979\n",
      "\n",
      "Title: The radiation mechanism of fast radio bursts\n",
      "\n",
      "Abstract: Fast radio bursts are radio transients observed mainly around 1.5 GHz. Their peak frequency decreases at a rate of 100 ~ 500 MHz/s and some of them have a broader pulse with an exponentially decaying tail. Common assumptions for fast radio bursts include a dispersion effect resulting in the peak frequency drifting and a scattering effect resulting in pulse broadening. These assumptions attribute the abnormally large dispersion measure and scattering measure to the environmental medium of the host galaxy. Here we show that the radiation of fast radio bursts can be explained as an undulator radiation and the large dispersion measure can be due to a motion effect mainly from the rotation of the source which is probably variable stars. In our scenario, the pulse broadening is near-field effects and the pulse itself represents a Fresnel diffraction pattern sweeping the observer. Our work is the first analysis of properties of fast radio bursts in the context of a special mechanism of the radiation instead of a special propagation environment of the radiation.\n",
      "\n",
      "2. R. A. Main et al., arXiv:2108.00052\n",
      "\n",
      "Title: Scintillation timescale measurement of the highly active FRB20201124A\n",
      "\n",
      "Abstract: Scintillation of compact radio sources results from the interference between images caused by multipath propagation, and probes the intervening scattering plasma and the velocities of the emitting source and scattering screen. In FRB20201124A, a repeating fast radio burst (FRB) which entered a period of extreme activity, we obtained many burst detections in observations at the upgraded Giant Metrewave Radio Telescope (uGMRT) and the Effelsberg 100\\,m Radio Telescope. Bursts nearby in time show similar scintillation patterns, and we measure a scintillation timescale of $14.3\\pm1.2$\\,min and $7\\pm2$\\,min at Effelsberg (1370\\,MHz) and uGMRT (650\\,MHz), respectively, by correlating burst pair spectra. The scintillation bandwidth scaled to 1\\,GHz is $0.5\\pm0.1$\\,MHz, and the inferred scintillation velocity at Effelsberg is $V_{\\mathrm{ISS}}\\approx (59\\pm7) \\sqrt{d_{l}/2\\,\\rm{kpc}}~{\\rm km~s}^{-1}$, higher than Earth's velocity for any screen beyond a lens distance of $d_{l} \\gtrsim 400\\,$pc. From the measured scintillation bandwidth, FRB20201124A has comparatively lower scattering than nearby pulsars, and is underscattered by a factor of $\\sim 30$ or $\\sim 1200$ compared to the NE2001 and YMW16 model predictions respectively. This underscattering, together with the measured scintillation velocity are consistent with a scattering screen more nearby the Earth at $d_{l} \\sim 400\\,$pc, rather than at the 2\\,kpc spiral arm which NE2001 predicts to be the dominant source of scattering. With future measurements, the distance, geometry, and velocity of the scattering screen could be obtained through modelling of the annual variation in $V_{\\rm ISS}$, or through inter-station time delays or interferometric observations. Scintillation/scattering measurements of FRBs could help improve Galactic electron density models, particularly in the Galactic halo or at high Galactic latitudes.\n",
      "\n",
      "3. Zi-Wei Wu et al., arXiv:2304.14697\n",
      "\n",
      "Title: Scintillation Arc from FRB 20220912A\n",
      "\n",
      "Abstract: We present the interstellar scintillation analysis of fast radio burst (FRB) 20220912A during its extremely active episode in 2022 using data from the Five-hundred-meter Aperture Spherical Radio Telescope (FAST). We detect a scintillation arc in the FRB's secondary spectrum, which describes the power in terms of the scattered FRB signals' time delay and Doppler shift. The arc indicates that the scintillation is caused by a highly localized region of the ionized interstellar medium (IISM). Our analysis favors a Milky Way origin for the localized scattering medium but cannot rule out a host galaxy origin. We present our method for detecting the scintillation arc, which can be applied generally to sources with irregularly spaced bursts or pulses. These methods could help shed light on the complex interstellar environment surrounding the FRBs and in our Galaxy.\n",
      "\n",
      "4. J. I. Katz, , arXiv:1604.01799\n",
      "\n",
      "Title: Fast Radio Bursts---A Brief Review: Some Questions, Fewer Answers\n",
      "\n",
      "Abstract: Fast Radio Bursts are millisecond bursts of radio radiation at frequencies of about 1 GHz, recently discovered in pulsar surveys. They have not yet been definitively identified with any other astronomical object or phenomenon. The bursts are strongly dispersed, indicating passage through a high column density of low density plasma. The most economical interpretation is that this is the interglactic medium, indicating that FRB are at \"cosmological\" distances with redshifts in the range 0.3--1.3. Their inferred brightness temperatures are as high as $10^{37\\,\\circ}$K, implying coherent emission by \"bunched\" charges, as in radio pulsars. I review the astronomical sites, objects and emission processes that have been proposed as the origin of FRB, with particular attention to Soft Gamma Repeaters and giant pulsar pulses.\n",
      "\n",
      "5. Laura G Spitler et al., arXiv:1807.03722\n",
      "\n",
      "Title: Detection of Bursts from FRB 121102 with the Effelsberg 100-m Radio Telescope at 5 GHz and the Role of Scintillation\n",
      "\n",
      "Abstract: FRB 121102, the only repeating fast radio burst (FRB) known to date, was discovered at 1.4 GHz and shortly after the discovery of its repeating nature, detected up to 2.4 GHz. Here we present three bursts detected with the 100-m Effelsberg radio telescope at 4.85 GHz. All three bursts exhibited frequency structure on broad and narrow frequency scales. Using an autocorrelation function analysis, we measured a characteristic bandwidth of the small-scale structure of 6.4$\\pm$1.6 MHz, which is consistent with the diffractive scintillation bandwidth for this line of sight through the Galactic interstellar medium (ISM) predicted by the NE2001 model. These were the only detections in a campaign totaling 22 hours in 10 observing epochs spanning five months. The observed burst detection rate within this observation was inconsistent with a Poisson process with a constant average occurrence rate; three bursts arrived in the final 0.3 hr of a 2 hr observation on 2016 August 20. We therefore observed a change in the rate of detectable bursts during this observation, and we argue that boosting by diffractive interstellar scintillations may have played a role in the detectability. Understanding whether changes in the detection rate of bursts from FRB 121102 observed at other radio frequencies and epochs are also a product of propagation effects, such as scintillation boosting by the Galactic ISM or plasma lensing in the host galaxy, or an intrinsic property of the burst emission will require further observations.\n",
      "\n"
     ]
    }
   ],
   "source": [
    "# abstract\n",
    "print_abstract_query_results(abstract_data, rst_abstract)"
   ]
  },
  {
   "cell_type": "code",
   "execution_count": null,
   "id": "350e622d",
   "metadata": {},
   "outputs": [],
   "source": []
  }
 ],
 "metadata": {
  "kernelspec": {
   "display_name": "Python 3 (ipykernel)",
   "language": "python",
   "name": "python3"
  },
  "language_info": {
   "codemirror_mode": {
    "name": "ipython",
    "version": 3
   },
   "file_extension": ".py",
   "mimetype": "text/x-python",
   "name": "python",
   "nbconvert_exporter": "python",
   "pygments_lexer": "ipython3",
   "version": "3.10.12"
  }
 },
 "nbformat": 4,
 "nbformat_minor": 5
}
